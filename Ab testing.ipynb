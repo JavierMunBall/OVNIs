{
 "cells": [
  {
   "cell_type": "code",
   "execution_count": 2,
   "metadata": {},
   "outputs": [],
   "source": [
    "from scipy.stats import mannwhitneyu\n",
    "from scipy import stats\n",
    "import seaborn as sns\n",
    "import matplotlib.pyplot as plt\n",
    "import pandas as pd"
   ]
  },
  {
   "cell_type": "code",
   "execution_count": 3,
   "metadata": {},
   "outputs": [],
   "source": [
    "df = pd.read_csv(r\"C:\\Users\\34650\\Desktop\\Avistamiento_Ovni\\UFO_final_csv.csv\")"
   ]
  },
  {
   "cell_type": "code",
   "execution_count": 4,
   "metadata": {},
   "outputs": [
    {
     "data": {
      "text/html": [
       "<div>\n",
       "<style scoped>\n",
       "    .dataframe tbody tr th:only-of-type {\n",
       "        vertical-align: middle;\n",
       "    }\n",
       "\n",
       "    .dataframe tbody tr th {\n",
       "        vertical-align: top;\n",
       "    }\n",
       "\n",
       "    .dataframe thead th {\n",
       "        text-align: right;\n",
       "    }\n",
       "</style>\n",
       "<table border=\"1\" class=\"dataframe\">\n",
       "  <thead>\n",
       "    <tr style=\"text-align: right;\">\n",
       "      <th></th>\n",
       "      <th>Date_time</th>\n",
       "      <th>Year</th>\n",
       "      <th>Month</th>\n",
       "      <th>Hour</th>\n",
       "      <th>Season</th>\n",
       "      <th>Country_Code</th>\n",
       "      <th>Country</th>\n",
       "      <th>Region</th>\n",
       "      <th>Locale</th>\n",
       "      <th>latitude</th>\n",
       "      <th>longitude</th>\n",
       "      <th>UFO_shape</th>\n",
       "      <th>duration_seconds</th>\n",
       "      <th>Encounter_Duration</th>\n",
       "      <th>Description</th>\n",
       "      <th>Day_of_week</th>\n",
       "      <th>Date</th>\n",
       "      <th>Time</th>\n",
       "    </tr>\n",
       "  </thead>\n",
       "  <tbody>\n",
       "    <tr>\n",
       "      <th>0</th>\n",
       "      <td>1949-10-10 20:30:00</td>\n",
       "      <td>1949</td>\n",
       "      <td>10</td>\n",
       "      <td>20</td>\n",
       "      <td>Autumn</td>\n",
       "      <td>USA</td>\n",
       "      <td>United States</td>\n",
       "      <td>Texas</td>\n",
       "      <td>San Marcos</td>\n",
       "      <td>29.883056</td>\n",
       "      <td>-97.941111</td>\n",
       "      <td>Cylinder</td>\n",
       "      <td>2700.0</td>\n",
       "      <td>45 minutes</td>\n",
       "      <td>This event took place in early fall around 194...</td>\n",
       "      <td>Monday</td>\n",
       "      <td>1949-10-10</td>\n",
       "      <td>20:30:00</td>\n",
       "    </tr>\n",
       "    <tr>\n",
       "      <th>1</th>\n",
       "      <td>1949-10-10 21:00:00</td>\n",
       "      <td>1949</td>\n",
       "      <td>10</td>\n",
       "      <td>21</td>\n",
       "      <td>Autumn</td>\n",
       "      <td>USA</td>\n",
       "      <td>United States</td>\n",
       "      <td>Texas</td>\n",
       "      <td>Lackland Air Force Base</td>\n",
       "      <td>29.384210</td>\n",
       "      <td>-98.581082</td>\n",
       "      <td>Light</td>\n",
       "      <td>7200.0</td>\n",
       "      <td>1-2 hrs</td>\n",
       "      <td>1949 Lackland AFB&amp;#44 TX.  Lights racing acros...</td>\n",
       "      <td>Monday</td>\n",
       "      <td>1949-10-10</td>\n",
       "      <td>21:00:00</td>\n",
       "    </tr>\n",
       "    <tr>\n",
       "      <th>2</th>\n",
       "      <td>1955-10-10 17:00:00</td>\n",
       "      <td>1955</td>\n",
       "      <td>10</td>\n",
       "      <td>17</td>\n",
       "      <td>Autumn</td>\n",
       "      <td>GBR</td>\n",
       "      <td>United Kingdom</td>\n",
       "      <td>England</td>\n",
       "      <td>Blacon</td>\n",
       "      <td>53.200000</td>\n",
       "      <td>-2.916667</td>\n",
       "      <td>Circle</td>\n",
       "      <td>20.0</td>\n",
       "      <td>20 seconds</td>\n",
       "      <td>Green/Orange circular disc over Chester&amp;#44 En...</td>\n",
       "      <td>Monday</td>\n",
       "      <td>1955-10-10</td>\n",
       "      <td>17:00:00</td>\n",
       "    </tr>\n",
       "    <tr>\n",
       "      <th>3</th>\n",
       "      <td>1956-10-10 21:00:00</td>\n",
       "      <td>1956</td>\n",
       "      <td>10</td>\n",
       "      <td>21</td>\n",
       "      <td>Autumn</td>\n",
       "      <td>USA</td>\n",
       "      <td>United States</td>\n",
       "      <td>Texas</td>\n",
       "      <td>Edna</td>\n",
       "      <td>28.978333</td>\n",
       "      <td>-96.645833</td>\n",
       "      <td>Circle</td>\n",
       "      <td>20.0</td>\n",
       "      <td>1/2 hour</td>\n",
       "      <td>My older brother and twin sister were leaving ...</td>\n",
       "      <td>Wednesday</td>\n",
       "      <td>1956-10-10</td>\n",
       "      <td>21:00:00</td>\n",
       "    </tr>\n",
       "    <tr>\n",
       "      <th>4</th>\n",
       "      <td>1960-10-10 20:00:00</td>\n",
       "      <td>1960</td>\n",
       "      <td>10</td>\n",
       "      <td>20</td>\n",
       "      <td>Autumn</td>\n",
       "      <td>USA</td>\n",
       "      <td>United States</td>\n",
       "      <td>Hawaii</td>\n",
       "      <td>Kane'ohe</td>\n",
       "      <td>21.418056</td>\n",
       "      <td>-157.803611</td>\n",
       "      <td>Light</td>\n",
       "      <td>900.0</td>\n",
       "      <td>15 minutes</td>\n",
       "      <td>AS a Marine 1st Lt. flying an FJ4B fighter/att...</td>\n",
       "      <td>Monday</td>\n",
       "      <td>1960-10-10</td>\n",
       "      <td>20:00:00</td>\n",
       "    </tr>\n",
       "  </tbody>\n",
       "</table>\n",
       "</div>"
      ],
      "text/plain": [
       "             Date_time  Year  Month  Hour  Season Country_Code  \\\n",
       "0  1949-10-10 20:30:00  1949     10    20  Autumn          USA   \n",
       "1  1949-10-10 21:00:00  1949     10    21  Autumn          USA   \n",
       "2  1955-10-10 17:00:00  1955     10    17  Autumn          GBR   \n",
       "3  1956-10-10 21:00:00  1956     10    21  Autumn          USA   \n",
       "4  1960-10-10 20:00:00  1960     10    20  Autumn          USA   \n",
       "\n",
       "          Country   Region                   Locale   latitude   longitude  \\\n",
       "0   United States    Texas               San Marcos  29.883056  -97.941111   \n",
       "1   United States    Texas  Lackland Air Force Base  29.384210  -98.581082   \n",
       "2  United Kingdom  England                   Blacon  53.200000   -2.916667   \n",
       "3   United States    Texas                     Edna  28.978333  -96.645833   \n",
       "4   United States   Hawaii                 Kane'ohe  21.418056 -157.803611   \n",
       "\n",
       "  UFO_shape  duration_seconds Encounter_Duration  \\\n",
       "0  Cylinder            2700.0         45 minutes   \n",
       "1     Light            7200.0            1-2 hrs   \n",
       "2    Circle              20.0         20 seconds   \n",
       "3    Circle              20.0           1/2 hour   \n",
       "4     Light             900.0         15 minutes   \n",
       "\n",
       "                                         Description Day_of_week        Date  \\\n",
       "0  This event took place in early fall around 194...      Monday  1949-10-10   \n",
       "1  1949 Lackland AFB&#44 TX.  Lights racing acros...      Monday  1949-10-10   \n",
       "2  Green/Orange circular disc over Chester&#44 En...      Monday  1955-10-10   \n",
       "3  My older brother and twin sister were leaving ...   Wednesday  1956-10-10   \n",
       "4  AS a Marine 1st Lt. flying an FJ4B fighter/att...      Monday  1960-10-10   \n",
       "\n",
       "       Time  \n",
       "0  20:30:00  \n",
       "1  21:00:00  \n",
       "2  17:00:00  \n",
       "3  21:00:00  \n",
       "4  20:00:00  "
      ]
     },
     "execution_count": 4,
     "metadata": {},
     "output_type": "execute_result"
    }
   ],
   "source": [
    "df.head()"
   ]
  },
  {
   "cell_type": "code",
   "execution_count": 17,
   "metadata": {},
   "outputs": [],
   "source": [
    "grupo_A = df[df['Season']=='Summer']['duration_seconds']\n",
    "\n"
   ]
  },
  {
   "cell_type": "code",
   "execution_count": 19,
   "metadata": {},
   "outputs": [
    {
     "data": {
      "text/plain": [
       "46227    180.0\n",
       "46228    120.0\n",
       "46229    600.0\n",
       "46230    300.0\n",
       "46231    300.0\n",
       "         ...  \n",
       "72483    120.0\n",
       "72484    600.0\n",
       "72485    900.0\n",
       "72486    120.0\n",
       "72487    240.0\n",
       "Name: duration_seconds, Length: 26261, dtype: float64"
      ]
     },
     "execution_count": 19,
     "metadata": {},
     "output_type": "execute_result"
    }
   ],
   "source": [
    "grupo_A"
   ]
  },
  {
   "cell_type": "code",
   "execution_count": 20,
   "metadata": {},
   "outputs": [],
   "source": [
    "grupo_B= df[df['Season']=='Winter']['duration_seconds']"
   ]
  },
  {
   "cell_type": "code",
   "execution_count": 21,
   "metadata": {},
   "outputs": [
    {
     "data": {
      "text/plain": [
       "7398       4.0\n",
       "7399     120.0\n",
       "7400     120.0\n",
       "7401     120.0\n",
       "7402     300.0\n",
       "         ...  \n",
       "29993    120.0\n",
       "29994      7.0\n",
       "29995    120.0\n",
       "29996    120.0\n",
       "29997    240.0\n",
       "Name: duration_seconds, Length: 15866, dtype: float64"
      ]
     },
     "execution_count": 21,
     "metadata": {},
     "output_type": "execute_result"
    }
   ],
   "source": [
    "grupo_B"
   ]
  },
  {
   "cell_type": "code",
   "execution_count": 22,
   "metadata": {},
   "outputs": [
    {
     "name": "stdout",
     "output_type": "stream",
     "text": [
      "El p-valor obtenido en el test de Mannwhiteneyu es de 1.4953290647915566e-05\n"
     ]
    }
   ],
   "source": [
    "MW_test = mannwhitneyu(grupo_B, grupo_A,alternative='two-sided') \n",
    "print(f\"El p-valor obtenido en el test de Mannwhiteneyu es de {MW_test.pvalue}\")"
   ]
  },
  {
   "cell_type": "code",
   "execution_count": 23,
   "metadata": {},
   "outputs": [
    {
     "name": "stdout",
     "output_type": "stream",
     "text": [
      "Tiene un p-valor(por Mann Whitney) de 1.4953290647915566e-05\n"
     ]
    }
   ],
   "source": [
    "if MW_test.pvalue < 0.05 or MW_test.pvalue < 0.05: #No sigue al menos una de ellas una normal\n",
    "    _, p_valor = stats.mannwhitneyu(grupo_A, grupo_B)\n",
    "    print(f'Tiene un p-valor(por Mann Whitney) de {p_valor}')\n",
    "else:\n",
    "    _,p_valor = stats.ttest_ind(grupo_A,grupo_B, equal_var=False)\n",
    "    print(f'Tiene un p-valor (por prueba t de dos nuestras) de {p_valor}')"
   ]
  },
  {
   "cell_type": "code",
   "execution_count": 24,
   "metadata": {},
   "outputs": [
    {
     "name": "stdout",
     "output_type": "stream",
     "text": [
      "Rechazamos la hipótesis nula: Existe una diferencia significativa entre los grupos A y B.\n"
     ]
    }
   ],
   "source": [
    "alpha = 0.05\n",
    "\n",
    "if p_valor < alpha:\n",
    "    print(\"Rechazamos la hipótesis nula: Existe una diferencia significativa entre los grupos A y B.\")\n",
    "else:\n",
    "    print(\"No podemos rechazar la hipótesis nula: No hay diferencia significativa entre los grupos A y B.\")"
   ]
  }
 ],
 "metadata": {
  "kernelspec": {
   "display_name": "Python 3",
   "language": "python",
   "name": "python3"
  },
  "language_info": {
   "codemirror_mode": {
    "name": "ipython",
    "version": 3
   },
   "file_extension": ".py",
   "mimetype": "text/x-python",
   "name": "python",
   "nbconvert_exporter": "python",
   "pygments_lexer": "ipython3",
   "version": "3.10.0"
  }
 },
 "nbformat": 4,
 "nbformat_minor": 2
}
